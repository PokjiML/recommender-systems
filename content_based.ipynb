{
 "cells": [
  {
   "cell_type": "code",
   "execution_count": 1,
   "id": "d53cce06",
   "metadata": {},
   "outputs": [],
   "source": [
    "import pandas as pd\n",
    "import matplotlib.pyplot as plt\n",
    "import numpy as np\n",
    "from sklearn.preprocessing import MinMaxScaler\n",
    "from sklearn.metrics.pairwise import cosine_similarity\n",
    "from collections import Counter"
   ]
  },
  {
   "cell_type": "code",
   "execution_count": 2,
   "id": "f6180c92",
   "metadata": {},
   "outputs": [
    {
     "data": {
      "text/html": [
       "<div>\n",
       "<style scoped>\n",
       "    .dataframe tbody tr th:only-of-type {\n",
       "        vertical-align: middle;\n",
       "    }\n",
       "\n",
       "    .dataframe tbody tr th {\n",
       "        vertical-align: top;\n",
       "    }\n",
       "\n",
       "    .dataframe thead th {\n",
       "        text-align: right;\n",
       "    }\n",
       "</style>\n",
       "<table border=\"1\" class=\"dataframe\">\n",
       "  <thead>\n",
       "    <tr style=\"text-align: right;\">\n",
       "      <th></th>\n",
       "      <th>id</th>\n",
       "      <th>movie_id</th>\n",
       "      <th>languages</th>\n",
       "      <th>releaseDate</th>\n",
       "      <th>directors</th>\n",
       "      <th>runtime</th>\n",
       "      <th>title</th>\n",
       "      <th>mpaa</th>\n",
       "      <th>actors</th>\n",
       "      <th>originalTitle</th>\n",
       "      <th>genres</th>\n",
       "      <th>plotSummary</th>\n",
       "      <th>avgRating</th>\n",
       "      <th>releaseYear</th>\n",
       "      <th>poster_path</th>\n",
       "    </tr>\n",
       "  </thead>\n",
       "  <tbody>\n",
       "    <tr>\n",
       "      <th>0</th>\n",
       "      <td>45844</td>\n",
       "      <td>1</td>\n",
       "      <td>English</td>\n",
       "      <td>1995.0</td>\n",
       "      <td>John Lasseter</td>\n",
       "      <td>81</td>\n",
       "      <td>Toy Story</td>\n",
       "      <td>G</td>\n",
       "      <td>Tom Hanks, Tim Allen, Don Rickles, Jim Varney,...</td>\n",
       "      <td>Toy Story</td>\n",
       "      <td>Animation, Comedy, Family</td>\n",
       "      <td>Led by Woody, Andy's toys live happily in his ...</td>\n",
       "      <td>3.9</td>\n",
       "      <td>1995.0</td>\n",
       "      <td>/uXDfjJbdP4ijW5hWSBrPrlKpxab.jpg</td>\n",
       "    </tr>\n",
       "    <tr>\n",
       "      <th>1</th>\n",
       "      <td>45845</td>\n",
       "      <td>2</td>\n",
       "      <td>English, Français</td>\n",
       "      <td>1995.0</td>\n",
       "      <td>Joe Johnston</td>\n",
       "      <td>104</td>\n",
       "      <td>Jumanji</td>\n",
       "      <td>PG</td>\n",
       "      <td>Robin Williams, Jonathan Hyde, Kirsten Dunst, ...</td>\n",
       "      <td>Jumanji</td>\n",
       "      <td>Adventure, Fantasy, Family</td>\n",
       "      <td>When siblings Judy and Peter discover an encha...</td>\n",
       "      <td>3.2</td>\n",
       "      <td>1995.0</td>\n",
       "      <td>/vgpXmVaVyUL7GGiDeiK1mKEKzcX.jpg</td>\n",
       "    </tr>\n",
       "  </tbody>\n",
       "</table>\n",
       "</div>"
      ],
      "text/plain": [
       "      id  movie_id          languages  releaseDate      directors  runtime  \\\n",
       "0  45844         1            English       1995.0  John Lasseter       81   \n",
       "1  45845         2  English, Français       1995.0   Joe Johnston      104   \n",
       "\n",
       "       title mpaa                                             actors  \\\n",
       "0  Toy Story    G  Tom Hanks, Tim Allen, Don Rickles, Jim Varney,...   \n",
       "1    Jumanji   PG  Robin Williams, Jonathan Hyde, Kirsten Dunst, ...   \n",
       "\n",
       "  originalTitle                      genres  \\\n",
       "0     Toy Story   Animation, Comedy, Family   \n",
       "1       Jumanji  Adventure, Fantasy, Family   \n",
       "\n",
       "                                         plotSummary  avgRating  releaseYear  \\\n",
       "0  Led by Woody, Andy's toys live happily in his ...        3.9       1995.0   \n",
       "1  When siblings Judy and Peter discover an encha...        3.2       1995.0   \n",
       "\n",
       "                        poster_path  \n",
       "0  /uXDfjJbdP4ijW5hWSBrPrlKpxab.jpg  \n",
       "1  /vgpXmVaVyUL7GGiDeiK1mKEKzcX.jpg  "
      ]
     },
     "execution_count": 2,
     "metadata": {},
     "output_type": "execute_result"
    }
   ],
   "source": [
    "movies = pd.read_csv('/home/pokji/vscode-projects/uni/information_search/data/movieapp_movie.csv')\n",
    "movies.head(2)"
   ]
  },
  {
   "cell_type": "code",
   "execution_count": 30,
   "id": "bdff0ccd",
   "metadata": {},
   "outputs": [],
   "source": [
    "# Convert the string list columns from string to pure list\n",
    "movies['actors'] = movies['actors'].apply(lambda x: x.split(','))\n",
    "\n",
    "movies['directors'] = movies['directors'].apply(lambda x: x.split(','))\n",
    "\n",
    "movies['languages'] = movies['languages'].apply(lambda x: x.split(','))\n",
    "\n",
    "movies['genres'] = movies['genres'].fillna('')\n",
    "movies['genres'] = movies['genres'].apply(lambda x: x.split(','))"
   ]
  },
  {
   "cell_type": "markdown",
   "id": "022b65d3",
   "metadata": {},
   "source": [
    "### Handle NaN values"
   ]
  },
  {
   "cell_type": "code",
   "execution_count": 31,
   "id": "aa545e9a",
   "metadata": {},
   "outputs": [],
   "source": [
    "# Fill the NaN in releaseYear by taking the median\n",
    "median_year = movies['releaseYear'].median()\n",
    "movies['releaseYear'] = movies['releaseYear'].fillna(median_year)"
   ]
  },
  {
   "cell_type": "code",
   "execution_count": 32,
   "id": "55b8720b",
   "metadata": {},
   "outputs": [],
   "source": [
    "# Map G to PG, Eveything else to R\n",
    "mpaa_map = {\n",
    "    'G': 'PG',\n",
    "    'PG': 'PG'\n",
    "}\n",
    "\n",
    "movies['mpaa'] = movies['mpaa'].map(lambda x: mpaa_map.get(x, 'R'))"
   ]
  },
  {
   "cell_type": "code",
   "execution_count": 33,
   "id": "76eea7e8",
   "metadata": {},
   "outputs": [],
   "source": [
    "# Fill the NaN based on Genre\n",
    "def fast_mpaa_impute(row):\n",
    "    if pd.isna(row['mpaa']) or row['mpaa'] == '':\n",
    "        genres = set([g.strip().lower() for g in row['genres']])\n",
    "        if 'family' in genres or 'animation' in genres:\n",
    "            return 'PG'\n",
    "        elif 'adventure' in genres or 'comedy' in genres:\n",
    "            return 'PG'\n",
    "        else:\n",
    "            return 'R'\n",
    "    return row['mpaa']\n",
    "\n",
    "movies['mpaa'] = movies.apply(fast_mpaa_impute, axis=1)"
   ]
  },
  {
   "cell_type": "markdown",
   "id": "3f5bb820",
   "metadata": {},
   "source": [
    "### Keep only the most popular actors"
   ]
  },
  {
   "cell_type": "code",
   "execution_count": 34,
   "id": "302d2fc0",
   "metadata": {},
   "outputs": [],
   "source": [
    "# Count each actor occurences\n",
    "actors_occurences = []\n",
    "for actor in movies['actors']:\n",
    "    # actors_occurences.extend(actor)\n",
    "    actors_occurences.extend(actor)\n",
    "\n",
    "# Drop out every actor with less than 30 occurences\n",
    "counts = Counter(actors_occurences)\n",
    "counts = pd.DataFrame(counts.items(), columns=['actors', 'count'])\n",
    "counts.sort_values(by='count', ascending=False, inplace=True)\n",
    "counts.drop(counts[counts['count'] < 20].index, inplace=True)  \n",
    "\n",
    "# Drop the [''] and Jr. columns\n",
    "counts.drop(counts.index[[0, 1]], inplace=True)\n",
    "\n",
    "# Actors to keep\n",
    "popular_actors = counts['actors'].tolist()\n",
    "\n",
    "# Keep only the most popular actors in the movies dataframe\n",
    "movies['actors'] = movies['actors'].apply(lambda actor_list: [a for a in actor_list if a in popular_actors])"
   ]
  },
  {
   "cell_type": "markdown",
   "id": "fe22982d",
   "metadata": {},
   "source": [
    "### Keep only the most popular directors"
   ]
  },
  {
   "cell_type": "code",
   "execution_count": 35,
   "id": "e6a1610c",
   "metadata": {},
   "outputs": [],
   "source": [
    "# Count director occurrences\n",
    "director_counts = Counter([d for director_list in movies['directors'] for d in director_list])\n",
    "popular_directors = [d for d, count in director_counts.items() if count > 1]\n",
    "\n",
    "# Keep only popular directors in the dataframe\n",
    "movies['directors'] = movies['directors'].apply(lambda dlist: [d for d in dlist if d in popular_directors])"
   ]
  },
  {
   "cell_type": "markdown",
   "id": "356a538b",
   "metadata": {},
   "source": [
    "### One-hot encode the list columns"
   ]
  },
  {
   "cell_type": "code",
   "execution_count": 37,
   "id": "576b8eac",
   "metadata": {},
   "outputs": [],
   "source": [
    "from sklearn.preprocessing import MultiLabelBinarizer, normalize\n",
    "\n",
    "# One-hot encode each list column\n",
    "mlb_actors = MultiLabelBinarizer()\n",
    "actors_ohe = mlb_actors.fit_transform(movies['actors'])\n",
    "\n",
    "mlb_directors = MultiLabelBinarizer()\n",
    "directors_ohe = mlb_directors.fit_transform(movies['directors'])\n",
    "\n",
    "mlb_languages = MultiLabelBinarizer()\n",
    "languages_ohe = mlb_languages.fit_transform(movies['languages'])\n",
    "\n",
    "mlb_genres = MultiLabelBinarizer()\n",
    "genres_ohe = mlb_genres.fit_transform(movies['genres'])\n",
    "\n",
    "mlb_mpaa = MultiLabelBinarizer()\n",
    "mpaa_ohe = mlb_mpaa.fit_transform(movies['mpaa'])\n",
    "\n",
    "# L2 normalize each one-hot encoded matrix (row-wise)\n",
    "actors_ohe_norm = normalize(actors_ohe, norm='l2', axis=1)\n",
    "directors_ohe_norm = normalize(directors_ohe, norm='l2', axis=1)\n",
    "languages_ohe_norm = normalize(languages_ohe, norm='l2', axis=1)\n",
    "genres_ohe_norm = normalize(genres_ohe, norm='l2', axis=1)"
   ]
  },
  {
   "cell_type": "markdown",
   "id": "600165bf",
   "metadata": {},
   "source": [
    "### Scale the numerical columns"
   ]
  },
  {
   "cell_type": "code",
   "execution_count": 38,
   "id": "bc585912",
   "metadata": {},
   "outputs": [],
   "source": [
    "from sklearn.preprocessing import MinMaxScaler\n",
    "\n",
    "numerical_columns = movies[['releaseYear', 'runtime']]\n",
    "numerical_columns\n",
    "\n",
    "# Scale to [0, 1]\n",
    "scaler = MinMaxScaler()\n",
    "num_features_scaled = scaler.fit_transform(numerical_columns)"
   ]
  },
  {
   "cell_type": "markdown",
   "id": "297e0cb7",
   "metadata": {},
   "source": [
    "### Concatenate all features"
   ]
  },
  {
   "cell_type": "code",
   "execution_count": 39,
   "id": "d8deacc8",
   "metadata": {},
   "outputs": [],
   "source": [
    "# Concatenate with your normalized one-hot features\n",
    "all_features = np.hstack([\n",
    "    actors_ohe_norm,\n",
    "    directors_ohe_norm,\n",
    "    languages_ohe_norm,\n",
    "    genres_ohe_norm,\n",
    "    mpaa_ohe,\n",
    "    num_features_scaled\n",
    "])"
   ]
  },
  {
   "cell_type": "code",
   "execution_count": 40,
   "id": "89eb6a12",
   "metadata": {},
   "outputs": [],
   "source": [
    "np.save('all_features.npy', all_features)"
   ]
  },
  {
   "cell_type": "markdown",
   "id": "025e504f",
   "metadata": {},
   "source": [
    "### Compute cosine similarity"
   ]
  },
  {
   "cell_type": "code",
   "execution_count": 41,
   "id": "bbbc4ad5",
   "metadata": {},
   "outputs": [],
   "source": [
    "from sklearn.metrics.pairwise import cosine_similarity\n",
    "\n",
    "movie_idx = 24\n",
    "movie_name = movies.iloc[movie_idx]['title']\n",
    "\n",
    "target_vector = all_features[movie_idx].reshape(1, -1)\n",
    "\n",
    "similarities = cosine_similarity(target_vector, all_features).flatten()\n",
    "\n",
    "# Get top 5 most similar movies\n",
    "most_similar_indices = similarities.argsort()[::-1][1: 6] "
   ]
  },
  {
   "cell_type": "markdown",
   "id": "f717bfc3",
   "metadata": {},
   "source": [
    "### Recommend movies"
   ]
  },
  {
   "cell_type": "code",
   "execution_count": 42,
   "id": "7d97df47",
   "metadata": {},
   "outputs": [
    {
     "name": "stdout",
     "output_type": "stream",
     "text": [
      "                 title  releaseYear  avgRating\n",
      "2523          Get Real       1998.0        3.8\n",
      "32696   Get Your Stuff       2000.0        3.8\n",
      "3485   Defying Gravity       1999.0        3.4\n",
      "494          Mr. Jones       1993.0        2.8\n",
      "15743       Like It Is       1998.0        1.8\n"
     ]
    }
   ],
   "source": [
    "# Take into account the rating of the movie\n",
    "ratings = movies.iloc[most_similar_indices]['avgRating']\n",
    "ratings_scaled = MinMaxScaler().fit_transform(ratings.values.reshape(-1, 1)).flatten()\n",
    "\n",
    "# Combine similarity and rating\n",
    "sim_weight = 0.7\n",
    "rating_weight = 0.3\n",
    "combined_score = (similarities[most_similar_indices] * sim_weight) + (ratings_scaled * rating_weight)\n",
    "\n",
    "sorted_idx = np.argsort(combined_score)[::-1]\n",
    "\n",
    "recommended = movies.iloc[most_similar_indices].iloc[sorted_idx]\n",
    "print(recommended[['title', 'releaseYear', 'avgRating']])"
   ]
  }
 ],
 "metadata": {
  "kernelspec": {
   "display_name": "data_analysis_env",
   "language": "python",
   "name": "python3"
  },
  "language_info": {
   "codemirror_mode": {
    "name": "ipython",
    "version": 3
   },
   "file_extension": ".py",
   "mimetype": "text/x-python",
   "name": "python",
   "nbconvert_exporter": "python",
   "pygments_lexer": "ipython3",
   "version": "3.10.15"
  }
 },
 "nbformat": 4,
 "nbformat_minor": 5
}
