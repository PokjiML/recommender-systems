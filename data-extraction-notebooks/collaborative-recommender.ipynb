{
 "cells": [
  {
   "cell_type": "code",
   "execution_count": 1,
   "id": "822b9179",
   "metadata": {},
   "outputs": [],
   "source": [
    "import pandas as pd\n",
    "import numpy as np\n",
    "from sklearn.metrics.pairwise import cosine_similarity"
   ]
  },
  {
   "cell_type": "code",
   "execution_count": null,
   "id": "befb8e40",
   "metadata": {},
   "outputs": [],
   "source": [
    "# Load ratings and movies\n",
    "ratings = pd.read_csv(\"data/ratings.csv\")\n",
    "movies = pd.read_csv(\"/data/movies.csv\")"
   ]
  },
  {
   "cell_type": "code",
   "execution_count": 4,
   "id": "f680b75d",
   "metadata": {},
   "outputs": [],
   "source": [
    "ratings.drop('timestamp', axis=1, inplace=True)\n",
    "ratings.to_csv('/home/pokji/vscode-projects/uni/information_search/data/ratings_no_timestamp.csv', index=False)"
   ]
  },
  {
   "cell_type": "code",
   "execution_count": null,
   "id": "bdb47c9a",
   "metadata": {},
   "outputs": [],
   "source": [
    "# # Precompute movie-to-users and user-to-movies mappings\n",
    "# from collections import defaultdict\n",
    "\n",
    "# movie_to_users = defaultdict(set)\n",
    "# user_to_movies = defaultdict(set)\n",
    "\n",
    "# for row in ratings.itertuples():\n",
    "#     movie_to_users[row.movieId].add(row.userId)\n",
    "#     user_to_movies[row.userId].add(row.movieId)\n",
    "\n",
    "# # Precompute movie rating counts\n",
    "# movie_rating_counts = ratings.groupby('movieId').size().to_dict()"
   ]
  },
  {
   "cell_type": "code",
   "execution_count": null,
   "id": "1276a04d",
   "metadata": {},
   "outputs": [],
   "source": [
    "ratings.head()"
   ]
  },
  {
   "cell_type": "code",
   "execution_count": null,
   "id": "a9765790",
   "metadata": {},
   "outputs": [
    {
     "name": "stdout",
     "output_type": "stream",
     "text": [
      "Selected movie title: Toy Story (1995)\n"
     ]
    }
   ],
   "source": [
    "movie_id = 1\n",
    "top_n = 5\n",
    "\n",
    "print(f\"Selected movie title: {movies[movies['movieId'] == movie_id]['title'].values[0]}\")\n",
    "\n",
    "# 1. Find users who rated the given movie\n",
    "users_who_rated = ratings[ratings['movieId'] == movie_id]['userId'].unique()\n",
    "\n",
    "# 2. Find all other movies these users have rated\n",
    "co_rated = ratings[(ratings['userId'].isin(users_who_rated)) & (ratings['movieId'] != movie_id)]\n",
    "\n",
    "# 3. Count how often each movie is co-rated\n",
    "co_counts = co_rated.groupby('movieId').size().reset_index(name='co_count')\n",
    "\n",
    "# 4. Add total rating counts for each movie\n",
    "movie_rating_counts = ratings.groupby('movieId').size().reset_index(name='total_count')\n",
    "co_counts = co_counts.merge(movie_rating_counts, on='movieId')\n",
    "\n",
    "# 5. Normalize co_count by total_count\n",
    "co_counts['co_count_norm'] = co_counts['co_count'] / co_counts['total_count']\n",
    "\n",
    "# 6. Merge with movie titles\n",
    "co_counts = co_counts.merge(movies, on='movieId')\n",
    "\n",
    "# 7. Filter to only movies with at least min_co_count co-ratings\n",
    "min_co_count = 50\n",
    "filtered_co_counts = co_counts[co_counts['co_count'] >= min_co_count]\n",
    "\n",
    "# 8. Recommend top N most co-rated movies (by normalized co-rating)\n",
    "recommendations = filtered_co_counts.sort_values('co_count_norm', ascending=False).head(top_n)\n"
   ]
  },
  {
   "cell_type": "code",
   "execution_count": 67,
   "id": "3c855b9a",
   "metadata": {},
   "outputs": [
    {
     "data": {
      "text/html": [
       "<div>\n",
       "<style scoped>\n",
       "    .dataframe tbody tr th:only-of-type {\n",
       "        vertical-align: middle;\n",
       "    }\n",
       "\n",
       "    .dataframe tbody tr th {\n",
       "        vertical-align: top;\n",
       "    }\n",
       "\n",
       "    .dataframe thead th {\n",
       "        text-align: right;\n",
       "    }\n",
       "</style>\n",
       "<table border=\"1\" class=\"dataframe\">\n",
       "  <thead>\n",
       "    <tr style=\"text-align: right;\">\n",
       "      <th></th>\n",
       "      <th>movieId</th>\n",
       "      <th>co_count</th>\n",
       "      <th>total_count</th>\n",
       "      <th>co_count_norm</th>\n",
       "      <th>title</th>\n",
       "      <th>genres</th>\n",
       "    </tr>\n",
       "  </thead>\n",
       "  <tbody>\n",
       "    <tr>\n",
       "      <th>17774</th>\n",
       "      <td>93208</td>\n",
       "      <td>59</td>\n",
       "      <td>61</td>\n",
       "      <td>0.967213</td>\n",
       "      <td>Mickey's The Prince and the Pauper (1990)</td>\n",
       "      <td>Animation|Children</td>\n",
       "    </tr>\n",
       "    <tr>\n",
       "      <th>22316</th>\n",
       "      <td>115879</td>\n",
       "      <td>73</td>\n",
       "      <td>76</td>\n",
       "      <td>0.960526</td>\n",
       "      <td>Toy Story Toons: Small Fry (2011)</td>\n",
       "      <td>Adventure|Animation|Children|Comedy|Fantasy</td>\n",
       "    </tr>\n",
       "    <tr>\n",
       "      <th>9679</th>\n",
       "      <td>32153</td>\n",
       "      <td>76</td>\n",
       "      <td>80</td>\n",
       "      <td>0.950000</td>\n",
       "      <td>Once Upon a Forest (1993)</td>\n",
       "      <td>Adventure|Animation|Children|Fantasy</td>\n",
       "    </tr>\n",
       "    <tr>\n",
       "      <th>14450</th>\n",
       "      <td>76108</td>\n",
       "      <td>75</td>\n",
       "      <td>79</td>\n",
       "      <td>0.949367</td>\n",
       "      <td>Tom and Jerry: The Movie (1992)</td>\n",
       "      <td>Animation|Children|Comedy</td>\n",
       "    </tr>\n",
       "    <tr>\n",
       "      <th>28644</th>\n",
       "      <td>136239</td>\n",
       "      <td>56</td>\n",
       "      <td>59</td>\n",
       "      <td>0.949153</td>\n",
       "      <td>Smart House (1999)</td>\n",
       "      <td>Children|Drama|Fantasy|Sci-Fi</td>\n",
       "    </tr>\n",
       "  </tbody>\n",
       "</table>\n",
       "</div>"
      ],
      "text/plain": [
       "       movieId  co_count  total_count  co_count_norm  \\\n",
       "17774    93208        59           61       0.967213   \n",
       "22316   115879        73           76       0.960526   \n",
       "9679     32153        76           80       0.950000   \n",
       "14450    76108        75           79       0.949367   \n",
       "28644   136239        56           59       0.949153   \n",
       "\n",
       "                                           title  \\\n",
       "17774  Mickey's The Prince and the Pauper (1990)   \n",
       "22316          Toy Story Toons: Small Fry (2011)   \n",
       "9679                   Once Upon a Forest (1993)   \n",
       "14450            Tom and Jerry: The Movie (1992)   \n",
       "28644                         Smart House (1999)   \n",
       "\n",
       "                                            genres  \n",
       "17774                           Animation|Children  \n",
       "22316  Adventure|Animation|Children|Comedy|Fantasy  \n",
       "9679          Adventure|Animation|Children|Fantasy  \n",
       "14450                    Animation|Children|Comedy  \n",
       "28644                Children|Drama|Fantasy|Sci-Fi  "
      ]
     },
     "execution_count": 67,
     "metadata": {},
     "output_type": "execute_result"
    }
   ],
   "source": [
    "recommendations.head()"
   ]
  }
 ],
 "metadata": {
  "kernelspec": {
   "display_name": "data_analysis_env",
   "language": "python",
   "name": "python3"
  },
  "language_info": {
   "codemirror_mode": {
    "name": "ipython",
    "version": 3
   },
   "file_extension": ".py",
   "mimetype": "text/x-python",
   "name": "python",
   "nbconvert_exporter": "python",
   "pygments_lexer": "ipython3",
   "version": "3.10.15"
  }
 },
 "nbformat": 4,
 "nbformat_minor": 5
}
